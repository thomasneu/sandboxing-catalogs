{
 "cells": [
  {
   "cell_type": "code",
   "execution_count": null,
   "id": "c4fac61d",
   "metadata": {},
   "outputs": [
    {
     "name": "stdout",
     "output_type": "stream",
     "text": [
      "\n",
      "ENV load failed: URI missing, please provide using --uri, the config or environment variable PYICEBERG_CATALOG__QUICKSTART_CATALOG__URI\n",
      "Falling back to inline properties...\n",
      "Loaded catalog via inline properties ✔️\n",
      "Namespaces: [('quickstart_namespace',)]\n"
     ]
    }
   ],
   "source": [
    "# 4) Try loading via env; if it still fails, fall back to inline properties\n",
    "from pyiceberg.catalog import load_catalog\n",
    "try:\n",
    "    catalog = load_catalog(\"quickstart_catalog\")\n",
    "    print(\"\\nLoaded catalog via ENV ✔️\")\n",
    "except Exception as e:\n",
    "    print(\"\\nENV load failed:\", e)\n",
    "    print(\"Falling back to inline properties...\")\n",
    "    catalog = load_catalog(\n",
    "        \"quickstart_catalog\",\n",
    "        type=\"rest\",\n",
    "        uri=\"http://34.34.139.123:8181/api/catalog\",\n",
    "        warehouse=\"quickstart_catalog\",\n",
    "        credential=\"4c96c5904c9e3523:XXXX\", \n",
    "\n",
    "         scope=\"PRINCIPAL_ROLE:ALL\"#ALL\",\n",
    "    )\n",
    "    print(\"Loaded catalog via inline properties ✔️\")\n",
    "\n",
    "print(\"Namespaces:\", catalog.list_namespaces())"
   ]
  },
  {
   "cell_type": "code",
   "execution_count": 8,
   "id": "1f404271",
   "metadata": {},
   "outputs": [
    {
     "name": "stdout",
     "output_type": "stream",
     "text": [
      "table {\n",
      "  1: id: optional long\n",
      "  2: data: optional string\n",
      "}\n",
      "None\n"
     ]
    }
   ],
   "source": [
    "identifier = (\"quickstart_namespace\", \"schema\", \"quickstart_table\")\n",
    "table = catalog.load_table(identifier)\n",
    "\n",
    "print(table.schema())        # see columns & types\n",
    "print(table.current_snapshot())  # see current snapshot metadata"
   ]
  },
  {
   "cell_type": "code",
   "execution_count": 9,
   "id": "27a60c06",
   "metadata": {},
   "outputs": [
    {
     "name": "stdout",
     "output_type": "stream",
     "text": [
      "[]\n",
      "[('quickstart_namespace', 'schema', 'quickstart_table')]\n"
     ]
    }
   ],
   "source": [
    "# If your namespace is just one level\n",
    "ns = (\"quickstart_namespace\",)\n",
    "print(catalog.list_tables(ns))\n",
    "\n",
    "# If you want the nested \"quickstart_namespace.schema\"\n",
    "ns = (\"quickstart_namespace\", \"schema\")\n",
    "print(catalog.list_tables(ns))"
   ]
  },
  {
   "cell_type": "code",
   "execution_count": 10,
   "id": "b63e1fec",
   "metadata": {},
   "outputs": [
    {
     "data": {
      "text/html": [
       "<div>\n",
       "<style scoped>\n",
       "    .dataframe tbody tr th:only-of-type {\n",
       "        vertical-align: middle;\n",
       "    }\n",
       "\n",
       "    .dataframe tbody tr th {\n",
       "        vertical-align: top;\n",
       "    }\n",
       "\n",
       "    .dataframe thead th {\n",
       "        text-align: right;\n",
       "    }\n",
       "</style>\n",
       "<table border=\"1\" class=\"dataframe\">\n",
       "  <thead>\n",
       "    <tr style=\"text-align: right;\">\n",
       "      <th></th>\n",
       "      <th>id</th>\n",
       "      <th>data</th>\n",
       "    </tr>\n",
       "  </thead>\n",
       "  <tbody>\n",
       "  </tbody>\n",
       "</table>\n",
       "</div>"
      ],
      "text/plain": [
       "Empty DataFrame\n",
       "Columns: [id, data]\n",
       "Index: []"
      ]
     },
     "execution_count": 10,
     "metadata": {},
     "output_type": "execute_result"
    }
   ],
   "source": [
    "tbl = catalog.load_table((\"quickstart_namespace\",\"schema\",\"quickstart_table\"))\n",
    "\n",
    "# all rows → pandas\n",
    "df = tbl.scan().to_pandas()\n",
    "df.head()"
   ]
  }
 ],
 "metadata": {
  "kernelspec": {
   "display_name": "pyice-env",
   "language": "python",
   "name": "python3"
  },
  "language_info": {
   "codemirror_mode": {
    "name": "ipython",
    "version": 3
   },
   "file_extension": ".py",
   "mimetype": "text/x-python",
   "name": "python",
   "nbconvert_exporter": "python",
   "pygments_lexer": "ipython3",
   "version": "3.11.13"
  }
 },
 "nbformat": 4,
 "nbformat_minor": 5
}
